{
 "cells": [
  {
   "cell_type": "code",
   "execution_count": 1,
   "metadata": {},
   "outputs": [],
   "source": [
    "import requests"
   ]
  },
  {
   "cell_type": "code",
   "execution_count": 2,
   "metadata": {},
   "outputs": [
    {
     "name": "stdout",
     "output_type": "stream",
     "text": [
      "Status code:  200\n"
     ]
    }
   ],
   "source": [
    "#single post\n",
    "response = requests.post(\"https://vms.inmarsat.com/apiv2\", json={\"csq\":-160,\"id\":1234,\"ts\": 1591240907})\n",
    "print(\"Status code: \", response.status_code)"
   ]
  },
  {
   "cell_type": "code",
   "execution_count": 3,
   "metadata": {},
   "outputs": [
    {
     "name": "stdout",
     "output_type": "stream",
     "text": [
      "Status code:  200\n"
     ]
    }
   ],
   "source": [
    "#multiple post\n",
    "response = requests.post(\"https://vms.inmarsat.com/apiv2?multiple=true\", json=[{\"csq\":-160,\"id\":1234,\"ts\": 1591240907},{\"csq\":-160,\"id\":1234,\"ts\": 1591240900}])\n",
    "print(\"Status code: \", response.status_code)"
   ]
  },
  {
   "cell_type": "code",
   "execution_count": 4,
   "metadata": {},
   "outputs": [
    {
     "name": "stdout",
     "output_type": "stream",
     "text": [
      "Status code:  200\n"
     ]
    }
   ],
   "source": [
    "#post event\n",
    "response = requests.post(\"https://vms.inmarsat.com/apiv2\", json={\"event\":\"processor overheat\",\"ts\": 1591240907, \"severity\":1})\n",
    "print(\"Status code: \", response.status_code)"
   ]
  },
  {
   "cell_type": "code",
   "execution_count": null,
   "metadata": {},
   "outputs": [],
   "source": []
  }
 ],
 "metadata": {
  "kernelspec": {
   "display_name": "Python 3",
   "language": "python",
   "name": "python3"
  },
  "language_info": {
   "codemirror_mode": {
    "name": "ipython",
    "version": 3
   },
   "file_extension": ".py",
   "mimetype": "text/x-python",
   "name": "python",
   "nbconvert_exporter": "python",
   "pygments_lexer": "ipython3",
   "version": "3.7.3"
  }
 },
 "nbformat": 4,
 "nbformat_minor": 2
}
