{
 "cells": [
  {
   "cell_type": "code",
   "execution_count": 1,
   "metadata": {},
   "outputs": [],
   "source": [
    "# Write AT+CSQ\n",
    "# CREATED by William Damario Lukito\n",
    "import time\n",
    "import serial"
   ]
  },
  {
   "cell_type": "code",
   "execution_count": 2,
   "metadata": {},
   "outputs": [],
   "source": [
    "# GUIDELINE\n",
    "## AT+CGSN for getting IMEI data\n",
    "## AT+CSQ for getting <RSSI>,<BER>\n",
    "\n",
    "# Choose which USB Port ?\n",
    "## ut_port = input()\n",
    "ut_port = '/dev/ttyUSB1'\n",
    "\n",
    "# Serial Connection to Modem\n",
    "ut = serial.Serial(ut_port, 115200, timeout=0)"
   ]
  },
  {
   "cell_type": "code",
   "execution_count": 3,
   "metadata": {},
   "outputs": [],
   "source": [
    "#check OK\n",
    "#cmd_atr='AT\\r'\n",
    "#ut.write(cmd_atr.encode())\n",
    "#ut_ok=ut.readline()\n",
    "#print(ut_ok.decode('utf-8'))"
   ]
  },
  {
   "cell_type": "code",
   "execution_count": 4,
   "metadata": {},
   "outputs": [
    {
     "name": "stdout",
     "output_type": "stream",
     "text": [
      "\n"
     ]
    }
   ],
   "source": [
    "#First Run\n",
    "cmd_cgsn='AT+CGSN\\r'\n",
    "#cmd_csq='AT+CSQ\\r'\n",
    "ut.write(cmd_cgsn.encode())\n",
    "#ut.write(cmd_csq.encode())\n",
    "ut_ok=ut.read(64)\n",
    "print(ut_ok.decode('utf-8'))"
   ]
  },
  {
   "cell_type": "code",
   "execution_count": 5,
   "metadata": {},
   "outputs": [
    {
     "name": "stdout",
     "output_type": "stream",
     "text": [
      "\r\n",
      "867497013638036\r\n",
      "\r\n",
      "OK\r\n",
      "\n"
     ]
    }
   ],
   "source": [
    "#check IMEI\n",
    "cmd_cgsn='AT+CGSN\\r'\n",
    "#cmd_csq='AT+CSQ\\r'\n",
    "ut.write(cmd_cgsn.encode())\n",
    "#ut.write(cmd_csq.encode())\n",
    "ut_ok=ut.read(64)\n",
    "print(ut_ok.decode('utf-8'))"
   ]
  },
  {
   "cell_type": "code",
   "execution_count": 7,
   "metadata": {},
   "outputs": [
    {
     "name": "stdout",
     "output_type": "stream",
     "text": [
      "\r\n",
      "+CSQ: 7,99\r\n",
      "\r\n",
      "OK\r\n",
      "\n"
     ]
    }
   ],
   "source": [
    "ut.reset_output_buffer()\n",
    "#Second Run\n",
    "#cmd_cgsn='AT+CGSN\\r'\n",
    "cmd_csq='AT+CSQ\\r'\n",
    "#ut.write(cmd_cgsn.encode())\n",
    "ut.write(cmd_csq.encode())\n",
    "ut_ok=ut.read(64)\n",
    "print(ut_ok.decode('utf-8'))"
   ]
  },
  {
   "cell_type": "code",
   "execution_count": null,
   "metadata": {},
   "outputs": [],
   "source": []
  },
  {
   "cell_type": "code",
   "execution_count": null,
   "metadata": {},
   "outputs": [],
   "source": []
  },
  {
   "cell_type": "code",
   "execution_count": null,
   "metadata": {},
   "outputs": [],
   "source": []
  }
 ],
 "metadata": {
  "kernelspec": {
   "display_name": "Python 3",
   "language": "python",
   "name": "python3"
  },
  "language_info": {
   "codemirror_mode": {
    "name": "ipython",
    "version": 3
   },
   "file_extension": ".py",
   "mimetype": "text/x-python",
   "name": "python",
   "nbconvert_exporter": "python",
   "pygments_lexer": "ipython3",
   "version": "3.7.3"
  }
 },
 "nbformat": 4,
 "nbformat_minor": 2
}
