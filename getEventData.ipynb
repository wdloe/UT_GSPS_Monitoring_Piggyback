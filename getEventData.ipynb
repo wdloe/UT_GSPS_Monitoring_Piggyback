{
 "cells": [
  {
   "cell_type": "code",
   "execution_count": 1,
   "metadata": {},
   "outputs": [],
   "source": [
    "# GET EVENT DATA\n",
    "\n",
    "import os\n",
    "import psutil\n",
    "import sys"
   ]
  },
  {
   "cell_type": "code",
   "execution_count": 2,
   "metadata": {},
   "outputs": [],
   "source": [
    "#guidance\n",
    "## Failure and event reporting of the device (process not running, processor overheat, lost\n",
    "## connection to GSPS terminal, CPU more than 80% etc)"
   ]
  },
  {
   "cell_type": "code",
   "execution_count": null,
   "metadata": {},
   "outputs": [],
   "source": [
    "# detecting connection to User Terminal\n"
   ]
  },
  {
   "cell_type": "code",
   "execution_count": 3,
   "metadata": {},
   "outputs": [],
   "source": [
    "# detecting process\n",
    "from subprocess import Popen\n",
    "\n",
    "found_process = False\n",
    "for process in psutil.process_iter():\n",
    "    if process.cmdline() == ['python', 'getrssi.py']:\n",
    "        #sys.exit('Process found: exiting.')\n",
    "        found_process = True\n",
    "\n",
    "if found_process == False:\n",
    "    print('Process not found: starting it.')\n",
    "    Popen(['python', 'getrssi.py'])"
   ]
  },
  {
   "cell_type": "code",
   "execution_count": 22,
   "metadata": {},
   "outputs": [
    {
     "name": "stdout",
     "output_type": "stream",
     "text": [
      "58.0\n",
      "CPU is on Working temperature\n"
     ]
    }
   ],
   "source": [
    "# detecting processor overheat\n",
    "def get_cpu_temp():\n",
    "    tempFile = open( \"/sys/class/thermal/thermal_zone0/temp\" )\n",
    "    cpu_temp = tempFile.read()\n",
    "    tempFile.close()\n",
    "    return round(float(cpu_temp)/1000, 2)\n",
    "\n",
    "cpu_temp = get_cpu_temp()\n",
    "print(temperature)\n",
    "\n",
    "overheat = False\n",
    "## deciding overheat or not\n",
    "### from several literature and documents said that raspi should be working normally below 80 deg celsius.\n",
    "if cpu_temp > 80: # if cpu temp more than 80 deg celsius\n",
    "    print('CPU Overheating ...')\n",
    "    overheat = True\n",
    "else:\n",
    "    #print('CPU is on Working temperature')\n",
    "    overheat = False"
   ]
  },
  {
   "cell_type": "code",
   "execution_count": 25,
   "metadata": {},
   "outputs": [
    {
     "name": "stdout",
     "output_type": "stream",
     "text": [
      "16.1\n",
      "CPU is working normally\n"
     ]
    }
   ],
   "source": [
    "overload = False\n",
    "# detecting CPU overload\n",
    "cpu_usage = psutil.cpu_percent()\n",
    "print(cpu_usage)\n",
    "\n",
    "if cpu_usage > 80: # if cpu usage more than 80 percent\n",
    "    print('CPU Overload ... ')\n",
    "    overload = True\n",
    "else:\n",
    "    #print('CPU is working normally')\n",
    "    overload = False"
   ]
  },
  {
   "cell_type": "code",
   "execution_count": null,
   "metadata": {},
   "outputs": [],
   "source": []
  }
 ],
 "metadata": {
  "kernelspec": {
   "display_name": "Python 3",
   "language": "python",
   "name": "python3"
  },
  "language_info": {
   "codemirror_mode": {
    "name": "ipython",
    "version": 3
   },
   "file_extension": ".py",
   "mimetype": "text/x-python",
   "name": "python",
   "nbconvert_exporter": "python",
   "pygments_lexer": "ipython3",
   "version": "3.7.3"
  }
 },
 "nbformat": 4,
 "nbformat_minor": 2
}
