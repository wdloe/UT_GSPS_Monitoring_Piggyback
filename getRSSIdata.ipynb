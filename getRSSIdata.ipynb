{
 "cells": [
  {
   "cell_type": "code",
   "execution_count": 1,
   "metadata": {},
   "outputs": [],
   "source": [
    "# GET RSSI DATA\n",
    "\n",
    "import serial\n",
    "import time"
   ]
  },
  {
   "cell_type": "code",
   "execution_count": 2,
   "metadata": {},
   "outputs": [
    {
     "name": "stdout",
     "output_type": "stream",
     "text": [
      "/dev/ttyUSB2 - HUAWEI Mobile\n",
      "/dev/ttyUSB0 - HUAWEI Mobile\n"
     ]
    }
   ],
   "source": [
    "# autoconnect\n",
    "import serial.tools.list_ports\n",
    "ports = list(serial.tools.list_ports.comports())\n",
    "for p in ports:\n",
    "    print(p)\n",
    "ut_port = p[0] #working perfectly on my Huawei Modem"
   ]
  },
  {
   "cell_type": "code",
   "execution_count": 3,
   "metadata": {},
   "outputs": [
    {
     "name": "stdout",
     "output_type": "stream",
     "text": [
      "/dev/ttyUSB0\n"
     ]
    }
   ],
   "source": [
    "#ut_port='/dev/ttyUSB0' #by default, in first after boot will be USB0\n",
    "ut=serial.Serial(ut_port, 115200, timeout=0)\n",
    "print(ut.name)"
   ]
  },
  {
   "cell_type": "code",
   "execution_count": 4,
   "metadata": {},
   "outputs": [
    {
     "name": "stdout",
     "output_type": "stream",
     "text": [
      "Getting device ready ... \n"
     ]
    }
   ],
   "source": [
    "#check OK\n",
    "cmd_ok='AT\\r'\n",
    "ut.write(cmd_ok.encode())\n",
    "print('Getting device ready ... ')"
   ]
  },
  {
   "cell_type": "code",
   "execution_count": 5,
   "metadata": {},
   "outputs": [
    {
     "name": "stdout",
     "output_type": "stream",
     "text": [
      "OK: Your device is ready\n"
     ]
    }
   ],
   "source": [
    "ut_ok=ut.readline() #blank\n",
    "ut_ok=ut.readline() #OK\n",
    "ut_ok=ut_ok.decode('utf-8')\n",
    "oke=ut_ok[0:2]\n",
    "if oke=='OK':\n",
    "    print(oke+': Your device is ready')\n",
    "else:\n",
    "    print(oke+': Your device is not ready. Please try again')"
   ]
  },
  {
   "cell_type": "code",
   "execution_count": 6,
   "metadata": {},
   "outputs": [
    {
     "name": "stdout",
     "output_type": "stream",
     "text": [
      "Getting device information ... \n"
     ]
    }
   ],
   "source": [
    "#checking device IMEI\n",
    "ut.reset_output_buffer()\n",
    "cmd_imei='AT+CGSN\\r'\n",
    "ut.write(cmd_imei.encode())\n",
    "print('Getting device information ... ')"
   ]
  },
  {
   "cell_type": "code",
   "execution_count": 7,
   "metadata": {},
   "outputs": [],
   "source": [
    "ut_cgsn=ut.readline() #blank\n",
    "ut_cgsn=ut.readline() #IMEI\n",
    "ut_cgsn=ut_cgsn.decode('utf-8')"
   ]
  },
  {
   "cell_type": "code",
   "execution_count": 8,
   "metadata": {},
   "outputs": [
    {
     "name": "stdout",
     "output_type": "stream",
     "text": [
      "IMEI : 867497013638036\n"
     ]
    }
   ],
   "source": [
    "imei=ut_cgsn[0:15] #unique id upload to server\n",
    "imei=int(imei) #convert to integer as spec\n",
    "print(\"IMEI : \" + str(imei))"
   ]
  },
  {
   "cell_type": "code",
   "execution_count": 9,
   "metadata": {},
   "outputs": [
    {
     "name": "stdout",
     "output_type": "stream",
     "text": [
      "Getting RSSI ... \n"
     ]
    }
   ],
   "source": [
    "#getting RSSI data\n",
    "ut.reset_output_buffer()\n",
    "cmd_csq='AT+CSQ\\r'\n",
    "ut.write(cmd_csq.encode())\n",
    "print('Getting RSSI ... ')"
   ]
  },
  {
   "cell_type": "code",
   "execution_count": 10,
   "metadata": {},
   "outputs": [],
   "source": [
    "epoch=int(time.time())"
   ]
  },
  {
   "cell_type": "code",
   "execution_count": 11,
   "metadata": {},
   "outputs": [],
   "source": [
    "ut_csq=ut.readline() #blank\n",
    "ut_csq=ut.readline() #OK\n",
    "ut_csq=ut.readline() #blank\n",
    "ut_csq=ut.readline() #CSQ\n",
    "ut_csq=ut_csq.decode('utf-8')"
   ]
  },
  {
   "cell_type": "code",
   "execution_count": 12,
   "metadata": {},
   "outputs": [
    {
     "name": "stdout",
     "output_type": "stream",
     "text": [
      "Timestamp: 1592453407\n",
      "Signal strength: -95.0 dBm\n",
      "RSSI: 0\n",
      "BER: 99\n"
     ]
    }
   ],
   "source": [
    "colon=ut_csq.find(',')\n",
    "rssi=ut_csq[colon-2:colon]\n",
    "ber=ut_csq[colon+1:colon+3]\n",
    "rssi=int(rssi)\n",
    "ber=int(ber)\n",
    "csq=float(rssi-95) #meraki formula dbm https://documentation.meraki.com/MR/Monitoring_and_Reporting/Location_Analytics\n",
    "print(\"Timestamp: \" + str(epoch))\n",
    "print(\"Signal strength: \" + str(csq) + \" dBm\")\n",
    "print(\"RSSI: \" + str(rssi))\n",
    "print(\"BER: \" + str(ber))"
   ]
  },
  {
   "cell_type": "code",
   "execution_count": 13,
   "metadata": {},
   "outputs": [
    {
     "name": "stdout",
     "output_type": "stream",
     "text": [
      "The pastebin URL is:https://pastebin.com/h4FRAKMz\n"
     ]
    }
   ],
   "source": [
    "# importing the requests library \n",
    "import requests \n",
    "  \n",
    "# defining the api-endpoint  \n",
    "API_ENDPOINT = \"http://pastebin.com/api/api_post.php\"\n",
    "  \n",
    "# your API key here \n",
    "API_KEY = \"8e2c6e885cc7441ca3bf3885063c97a5\"\n",
    "  \n",
    "# your source code here \n",
    "json_body = {'csq':csq, 'id':imei, 'ts':epoch}\n",
    "pasted = str(json_body)\n",
    "\n",
    "# data to be sent to api \n",
    "data = {'api_dev_key':API_KEY, \n",
    "        'api_option':'paste', \n",
    "        'api_paste_code':pasted, \n",
    "        'api_paste_format':'python'} \n",
    "  \n",
    "# sending post request and saving response as response object \n",
    "r = requests.post(url = API_ENDPOINT, data = data) \n",
    "  \n",
    "# extracting response text  \n",
    "pastebin_url = r.text \n",
    "print(\"The pastebin URL is:%s\"%pastebin_url) "
   ]
  },
  {
   "cell_type": "code",
   "execution_count": 14,
   "metadata": {},
   "outputs": [
    {
     "name": "stdout",
     "output_type": "stream",
     "text": [
      "{'csq': -95.0, 'id': 867497013638036, 'ts': 1592453407}\n"
     ]
    }
   ],
   "source": [
    "print(pasted)"
   ]
  },
  {
   "cell_type": "code",
   "execution_count": null,
   "metadata": {},
   "outputs": [],
   "source": []
  }
 ],
 "metadata": {
  "kernelspec": {
   "display_name": "Python 3",
   "language": "python",
   "name": "python3"
  },
  "language_info": {
   "codemirror_mode": {
    "name": "ipython",
    "version": 3
   },
   "file_extension": ".py",
   "mimetype": "text/x-python",
   "name": "python",
   "nbconvert_exporter": "python",
   "pygments_lexer": "ipython3",
   "version": "3.7.3"
  }
 },
 "nbformat": 4,
 "nbformat_minor": 2
}
