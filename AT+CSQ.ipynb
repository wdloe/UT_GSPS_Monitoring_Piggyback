{
 "cells": [
  {
   "cell_type": "code",
   "execution_count": 90,
   "metadata": {},
   "outputs": [],
   "source": [
    "# PROGRAM THAT CAN RETREIVE AT+CSQ EVERY SECOND\n",
    "# CREATED by William Damario Lukito\n",
    "import time\n",
    "import serial"
   ]
  },
  {
   "cell_type": "code",
   "execution_count": 91,
   "metadata": {},
   "outputs": [],
   "source": [
    "# GUIDELINE\n",
    "\n",
    "# AT+CGSN for getting IMEI data\n",
    "# AT+CSQ for getting <RSSI>,<BER>\n",
    "\n",
    "# Choose which USB Port ?\n",
    "## ut_port = input()\n",
    "ut_port = '/dev/ttyUSB2'\n",
    "\n",
    "# Serial Connection to Modem\n",
    "ut = serial.Serial(ut_port, 115200, timeout=3)"
   ]
  },
  {
   "cell_type": "code",
   "execution_count": 94,
   "metadata": {},
   "outputs": [
    {
     "name": "stdout",
     "output_type": "stream",
     "text": [
      "b'\\r\\nOK\\r\\n'\n",
      "b'\\r\\n867497013638036\\r\\n\\r\\nOK\\r\\n'\n"
     ]
    }
   ],
   "source": [
    "#check OK\n",
    "ut.write(b'AT\\r')\n",
    "ut_ok=ut.read(64)\n",
    "print(ut_ok)\n",
    "\n",
    "#check IMEI\n",
    "ut.write(b'AT+CGSN\\r')\n",
    "ut_imei=ut.read(64)\n",
    "print(ut_imei)\n"
   ]
  },
  {
   "cell_type": "code",
   "execution_count": 97,
   "metadata": {},
   "outputs": [
    {
     "name": "stdout",
     "output_type": "stream",
     "text": [
      "b'\\r\\n+CSQ: 6,99\\r\\n\\r\\nOK\\r\\n'\n"
     ]
    }
   ],
   "source": [
    "#check RSSI and BER\n",
    "ut.write(b'AT+CSQ\\r')\n",
    "ut_csq=ut.read(32)\n",
    "print(ut_csq)"
   ]
  },
  {
   "cell_type": "code",
   "execution_count": null,
   "metadata": {},
   "outputs": [],
   "source": []
  }
 ],
 "metadata": {
  "kernelspec": {
   "display_name": "Python 3",
   "language": "python",
   "name": "python3"
  },
  "language_info": {
   "codemirror_mode": {
    "name": "ipython",
    "version": 3
   },
   "file_extension": ".py",
   "mimetype": "text/x-python",
   "name": "python",
   "nbconvert_exporter": "python",
   "pygments_lexer": "ipython3",
   "version": "3.7.3"
  }
 },
 "nbformat": 4,
 "nbformat_minor": 2
}
