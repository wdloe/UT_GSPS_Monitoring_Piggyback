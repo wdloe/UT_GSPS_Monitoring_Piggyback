{
 "cells": [
  {
   "cell_type": "code",
   "execution_count": 1,
   "metadata": {},
   "outputs": [],
   "source": [
    "#Step-by-step\n",
    "import serial\n",
    "import time"
   ]
  },
  {
   "cell_type": "code",
   "execution_count": 2,
   "metadata": {},
   "outputs": [
    {
     "name": "stdout",
     "output_type": "stream",
     "text": [
      "/dev/ttyUSB0\n"
     ]
    }
   ],
   "source": [
    "ut_port='/dev/ttyUSB0' #by default, in first after boot will be USB0\n",
    "ut=serial.Serial(ut_port, 115200, timeout=0)\n",
    "print(ut.name)"
   ]
  },
  {
   "cell_type": "code",
   "execution_count": 3,
   "metadata": {},
   "outputs": [
    {
     "name": "stdout",
     "output_type": "stream",
     "text": [
      "Getting device ready ... \n"
     ]
    }
   ],
   "source": [
    "#check OK\n",
    "cmd_ok='AT\\r'\n",
    "ut.write(cmd_ok.encode())\n",
    "print('Getting device ready ... ')"
   ]
  },
  {
   "cell_type": "code",
   "execution_count": 4,
   "metadata": {},
   "outputs": [
    {
     "name": "stdout",
     "output_type": "stream",
     "text": [
      "OK: Your device is ready\n"
     ]
    }
   ],
   "source": [
    "ut_ok=ut.readline() #blank\n",
    "ut_ok=ut.readline() #OK\n",
    "ut_ok=ut_ok.decode('utf-8')\n",
    "oke=ut_ok[0:2]\n",
    "if oke=='OK':\n",
    "    print(oke+': Your device is ready')\n",
    "else:\n",
    "    print(oke+': Your device is not ready. Please try again')"
   ]
  },
  {
   "cell_type": "code",
   "execution_count": 5,
   "metadata": {},
   "outputs": [
    {
     "name": "stdout",
     "output_type": "stream",
     "text": [
      "Getting device information ... \n"
     ]
    }
   ],
   "source": [
    "#checking device IMEI\n",
    "ut.reset_output_buffer()\n",
    "cmd_imei='AT+CGSN\\r'\n",
    "ut.write(cmd_imei.encode())\n",
    "print('Getting device information ... ')"
   ]
  },
  {
   "cell_type": "code",
   "execution_count": 6,
   "metadata": {},
   "outputs": [],
   "source": [
    "ut_cgsn=ut.readline() #blank\n",
    "ut_cgsn=ut.readline() #IMEI\n",
    "ut_cgsn=ut_cgsn.decode('utf-8')"
   ]
  },
  {
   "cell_type": "code",
   "execution_count": 7,
   "metadata": {},
   "outputs": [
    {
     "name": "stdout",
     "output_type": "stream",
     "text": [
      "IMEI : 867497013638036\n"
     ]
    }
   ],
   "source": [
    "imei=ut_cgsn[0:15] #unique id upload to server\n",
    "print('IMEI : '+imei)"
   ]
  },
  {
   "cell_type": "code",
   "execution_count": 8,
   "metadata": {},
   "outputs": [
    {
     "name": "stdout",
     "output_type": "stream",
     "text": [
      "Getting RSSI ... \n"
     ]
    }
   ],
   "source": [
    "#getting RSSI data\n",
    "ut.reset_output_buffer()\n",
    "cmd_csq='AT+CSQ\\r'\n",
    "ut.write(cmd_csq.encode())\n",
    "print('Getting RSSI ... ')"
   ]
  },
  {
   "cell_type": "code",
   "execution_count": 9,
   "metadata": {},
   "outputs": [],
   "source": [
    "ut_csq=ut.readline() #blank\n",
    "ut_csq=ut.readline() #OK\n",
    "ut_csq=ut.readline() #blank\n",
    "ut_csq=ut.readline() #CSQ\n",
    "ut_csq=ut_csq.decode('utf-8')"
   ]
  },
  {
   "cell_type": "code",
   "execution_count": 10,
   "metadata": {},
   "outputs": [
    {
     "name": "stdout",
     "output_type": "stream",
     "text": [
      "RSSI: 5,\n",
      "Bit-Error-Rate: 9\n"
     ]
    }
   ],
   "source": [
    "# RSSI = index 6-7\n",
    "# BER = index 10-11\n",
    "rssi=ut_csq[6:8]\n",
    "ber=ut_csq[9:11]\n",
    "print('RSSI: '+rssi)\n",
    "print('Bit-Error-Rate: '+ber)"
   ]
  },
  {
   "cell_type": "code",
   "execution_count": null,
   "metadata": {},
   "outputs": [],
   "source": []
  },
  {
   "cell_type": "code",
   "execution_count": null,
   "metadata": {},
   "outputs": [],
   "source": []
  }
 ],
 "metadata": {
  "kernelspec": {
   "display_name": "Python 3",
   "language": "python",
   "name": "python3"
  },
  "language_info": {
   "codemirror_mode": {
    "name": "ipython",
    "version": 3
   },
   "file_extension": ".py",
   "mimetype": "text/x-python",
   "name": "python",
   "nbconvert_exporter": "python",
   "pygments_lexer": "ipython3",
   "version": "3.7.3"
  }
 },
 "nbformat": 4,
 "nbformat_minor": 2
}
